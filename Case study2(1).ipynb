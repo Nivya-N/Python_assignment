{
 "cells": [
  {
   "cell_type": "code",
   "execution_count": 6,
   "id": "81720ffc",
   "metadata": {},
   "outputs": [
    {
     "name": "stdout",
     "output_type": "stream",
     "text": [
      "Enter the list: 10 20 30 15\n",
      "[10, 20, 30, 15]\n",
      "Sum of elements in list =  75\n"
     ]
    }
   ],
   "source": [
    "list1=[]\n",
    "list1=list(map(int,input(\"Enter the list: \").split()))\n",
    "print (list1)\n",
    "sum=0\n",
    "for i in list1:\n",
    "    sum=sum+i\n",
    "    \n",
    "print(\"Sum of elements in list = \",sum)"
   ]
  },
  {
   "cell_type": "code",
   "execution_count": 10,
   "id": "de2a2a6b",
   "metadata": {},
   "outputs": [
    {
     "name": "stdout",
     "output_type": "stream",
     "text": [
      "enter the string: Malayalam\n",
      "Entered string is palindrome\n"
     ]
    }
   ],
   "source": [
    "str1=input(\"enter the string: \")\n",
    "str1=str1.lower()\n",
    "rev=str1[::-1]\n",
    "if str1==rev:\n",
    "    print(\"Entered string is palindrome\")\n",
    "else:\n",
    "    print(\"Entered string is not a palindrome\")"
   ]
  },
  {
   "cell_type": "code",
   "execution_count": 14,
   "id": "24a74aee",
   "metadata": {},
   "outputs": [
    {
     "name": "stdout",
     "output_type": "stream",
     "text": [
      "Enter number of terms: 4\n",
      "Fibonacci series: \n",
      "0\n",
      "1\n",
      "1\n",
      "2\n"
     ]
    }
   ],
   "source": [
    "def fibo(n):\n",
    "    if n <=1:\n",
    "        return n\n",
    "    else:\n",
    "        return(fibo(n-1) + fibo(n-2))\n",
    "nterms=int(input(\"Enter number of terms: \"))\n",
    "print(\"Fibonacci series: \")\n",
    "for i in range(nterms):\n",
    "    print(fibo(i))"
   ]
  },
  {
   "cell_type": "code",
   "execution_count": 15,
   "id": "8874c8f6",
   "metadata": {},
   "outputs": [
    {
     "name": "stdout",
     "output_type": "stream",
     "text": [
      "Enter number:7\n",
      "1 * 7 = 7\n",
      "2 * 7 = 14\n",
      "3 * 7 = 21\n",
      "4 * 7 = 28\n",
      "5 * 7 = 35\n",
      "6 * 7 = 42\n",
      "7 * 7 = 49\n",
      "8 * 7 = 56\n",
      "9 * 7 = 63\n",
      "10 * 7 = 70\n"
     ]
    }
   ],
   "source": [
    "def table(n,val):\n",
    "    \n",
    "    if val>10:\n",
    "        return\n",
    "    else:\n",
    "        print(val, \"*\",n , \"=\", n*val)\n",
    "       \n",
    "        return (table(n,val+1))\n",
    "x=int(input(\"Enter number:\"))\n",
    "table(x,1)"
   ]
  },
  {
   "cell_type": "code",
   "execution_count": 19,
   "id": "8e43483c",
   "metadata": {},
   "outputs": [
    {
     "name": "stdout",
     "output_type": "stream",
     "text": [
      "Enter a word: nIvys\n",
      "Number of vowels =  1\n",
      "Number of consonants =  4\n"
     ]
    }
   ],
   "source": [
    "str1=input(\"Enter a word: \")\n",
    "vow=0;cons=0\n",
    "str1=str1.lower()\n",
    "for i in str1:\n",
    "    if i=='a' or i=='e' or i=='i' or i=='o' or i=='u':\n",
    "        vow+=1\n",
    "    else:\n",
    "        cons+=1\n",
    "        \n",
    "print(\"Number of vowels = \",vow)\n",
    "print(\"Number of consonants = \",cons)"
   ]
  },
  {
   "cell_type": "code",
   "execution_count": 21,
   "id": "d2ed1365",
   "metadata": {},
   "outputs": [
    {
     "name": "stdout",
     "output_type": "stream",
     "text": [
      "Enter a word in lower case: kdfnvbo\n",
      "Entered string in upper case is:  KDFNVBO\n"
     ]
    }
   ],
   "source": [
    "str1=input(\"Enter a word in lower case: \")\n",
    "str1=str1.upper()\n",
    "print(\"Entered string in upper case is: \",str1)"
   ]
  },
  {
   "cell_type": "code",
   "execution_count": 24,
   "id": "8165ea42",
   "metadata": {},
   "outputs": [
    {
     "name": "stdout",
     "output_type": "stream",
     "text": [
      "Original list is:  [12, 0, None, 23, None, -55, 234, 89, None, 0, 6, -12]\n",
      "New list is:  [12, 0, 23, -55, 234, 89, 0, 6, -12]\n"
     ]
    }
   ],
   "source": [
    "num = [12, 0, None, 23, None, -55, 234, 89, None, 0, 6, -12]\n",
    "print(\"Original list is: \",num)\n",
    "new_num = list(filter(lambda v: v is not None, num))\n",
    "print(\"New list is: \",new_num)"
   ]
  },
  {
   "cell_type": "code",
   "execution_count": 39,
   "id": "a29d35e2",
   "metadata": {},
   "outputs": [
    {
     "name": "stdout",
     "output_type": "stream",
     "text": [
      "Length =  10\n",
      "Width =  20\n",
      "Area =  200\n",
      "Perimeter =  60\n",
      "Volume of parallelepiped =  400\n"
     ]
    }
   ],
   "source": [
    "class rectangle:\n",
    "    def __init__(self,l,w):\n",
    "        self.l=l\n",
    "        self.w=w\n",
    "    def area(self):\n",
    "        self.area=self.l*self.w\n",
    "    def perimeter(self):\n",
    "        self.p=2*(self.l+self.w)\n",
    "    def display(self):\n",
    "        print(\"Length = \",self.l)\n",
    "        print(\"Width = \",self.w)\n",
    "        print(\"Area = \",self.area)\n",
    "        print(\"Perimeter = \",self.p)\n",
    "\n",
    "r1=rectangle(10,20)\n",
    "#r1.area()\n",
    "#r1.perimeter()\n",
    "#r1.display()\n",
    "\n",
    "class parallelepiped(rectangle):\n",
    "    def __init__(self,l,w,h):\n",
    "        rectangle.__init__(self,l,w)\n",
    "        #self.l=l\n",
    "        #self.w=w\n",
    "        self.h=h\n",
    "    def volume(self):\n",
    "        self.v= self.l*self.w*self.h\n",
    "        return self.v\n",
    "        \n",
    "\n",
    "p1=parallelepiped(10,20,2)\n",
    "p1.area()\n",
    "p1.perimeter()\n",
    "p1.display()\n",
    "print(\"Volume of parallelepiped = \",p1.volume())"
   ]
  },
  {
   "cell_type": "code",
   "execution_count": 6,
   "id": "d8a98314",
   "metadata": {},
   "outputs": [
    {
     "name": "stdout",
     "output_type": "stream",
     "text": [
      "Enter the amount to be deposited: 1000\n",
      "New balance is  6371.25\n",
      "Enter the amount to be withdrawn: 2000\n",
      "New balance is  4371.25\n",
      "Name of the account holder:  Nivya\n",
      "Account number:  123456\n",
      "Available balance is:  4371.25\n",
      "Bank fee deducted. New balance is  4152.6875\n"
     ]
    }
   ],
   "source": [
    "class BankAccount:\n",
    "    \n",
    "    def __init__(self, Acc,name,balance):\n",
    "        self.acc=Acc\n",
    "        self.name=name\n",
    "        self.bal=balance\n",
    "        \n",
    "    def deposit(self):\n",
    "        amt= int(input(\"Enter the amount to be deposited: \"))\n",
    "        self.bal+=amt\n",
    "        print(\"New balance is \",self.bal)\n",
    "        \n",
    "    def withdrawal(self):\n",
    "        amt= int(input(\"Enter the amount to be withdrawn: \"))\n",
    "        self.bal-=amt\n",
    "        print(\"New balance is \",self.bal)\n",
    "        \n",
    "    def bankFee(self):\n",
    "        fee=self.bal*5/100\n",
    "        self.bal=self.bal-fee\n",
    "        print(\"Bank fee deducted. New balance is \",self.bal)\n",
    "        \n",
    "    def display(self):\n",
    "        print(\"Name of the account holder: \",self.name)\n",
    "        print(\"Account number: \",self.acc)\n",
    "        print(\"Available balance is: \",self.bal)\n",
    "        \n",
    "b1=BankAccount(123456,\"Nivya\",5371.25)\n",
    "b1.deposit()\n",
    "b1.withdrawal()\n",
    "b1.display()\n",
    "b1.bankFee()"
   ]
  },
  {
   "cell_type": "code",
   "execution_count": null,
   "id": "612fa1dc",
   "metadata": {},
   "outputs": [],
   "source": []
  }
 ],
 "metadata": {
  "kernelspec": {
   "display_name": "Python 3 (ipykernel)",
   "language": "python",
   "name": "python3"
  },
  "language_info": {
   "codemirror_mode": {
    "name": "ipython",
    "version": 3
   },
   "file_extension": ".py",
   "mimetype": "text/x-python",
   "name": "python",
   "nbconvert_exporter": "python",
   "pygments_lexer": "ipython3",
   "version": "3.9.13"
  }
 },
 "nbformat": 4,
 "nbformat_minor": 5
}
