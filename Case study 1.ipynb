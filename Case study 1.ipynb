{
 "cells": [
  {
   "cell_type": "code",
   "execution_count": 1,
   "id": "0203decd",
   "metadata": {},
   "outputs": [
    {
     "name": "stdout",
     "output_type": "stream",
     "text": [
      "Enter marks: 60\n",
      "C grade\n"
     ]
    }
   ],
   "source": [
    "mark = int (input(\"Enter marks: \"))\n",
    "if mark>80 and mark<=100:\n",
    "    print (\"A grade\")\n",
    "elif mark>60:\n",
    "    print(\"B grade\")\n",
    "elif mark>50:\n",
    "    print(\"C grade\")\n",
    "elif mark>45:\n",
    "    print(\"D grade\")\n",
    "elif mark>25:\n",
    "    print(\"E grade\")\n",
    "elif mark>0:\n",
    "    print(\"F grade\")\n",
    "else:\n",
    "    print(\"Invalid mark\")"
   ]
  },
  {
   "cell_type": "code",
   "execution_count": 2,
   "id": "1841403f",
   "metadata": {},
   "outputs": [
    {
     "name": "stdout",
     "output_type": "stream",
     "text": [
      "['John', 'Krishna']\n"
     ]
    }
   ],
   "source": [
    "l1 = ['John','Peter','Meera','Mini','Krishna']\n",
    "\n",
    "i=0\n",
    "#flag=0\n",
    "n=0\n",
    "list_out=[]\n",
    "for n in range (5):\n",
    "    str=l1[n]\n",
    "    flag=0\n",
    "    for i in range (1,len(str)):\n",
    "        for j in range (i+1,len(str)):\n",
    "            if str[i]==str[j]:\n",
    "                #print(\"duplicate spotted for\",str)\n",
    "                flag=1\n",
    "                \n",
    "    if flag==0:\n",
    "        list_out.append(str)\n",
    "        \n",
    "print(list_out)\n",
    "    \n"
   ]
  },
  {
   "cell_type": "code",
   "execution_count": 3,
   "id": "79ac99c1",
   "metadata": {},
   "outputs": [
    {
     "name": "stdout",
     "output_type": "stream",
     "text": [
      "Enter the length: 3\n",
      "Enter the breadth: 5\n",
      "Rectangle\n"
     ]
    }
   ],
   "source": [
    "length = float(input(\"Enter the length: \"))\n",
    "breadth = float(input(\"Enter the breadth: \"))\n",
    "if length == breadth:\n",
    "    print(\"Square\")\n",
    "else:\n",
    "    print(\"Rectangle\")"
   ]
  },
  {
   "cell_type": "code",
   "execution_count": 4,
   "id": "231d9885",
   "metadata": {},
   "outputs": [
    {
     "name": "stdout",
     "output_type": "stream",
     "text": [
      "Enter the total number of classes held: 100\n",
      "Enter the number of classes attended: 30\n",
      "Your attendance percentage is:  30.0\n",
      "You are not eligible to write exam\n"
     ]
    }
   ],
   "source": [
    "total_class = int(input(\"Enter the total number of classes held: \"))\n",
    "att_class = int(input(\"Enter the number of classes attended: \"))\n",
    "p=att_class*100/total_class\n",
    "print(\"Your attendance percentage is: \",p)\n",
    "if p>=75:\n",
    "    print(\"You are eligible to write exam\")\n",
    "else:\n",
    "    print(\"You are not eligible to write exam\")\n",
    "    "
   ]
  },
  {
   "cell_type": "code",
   "execution_count": 5,
   "id": "c0b1aaed",
   "metadata": {},
   "outputs": [
    {
     "name": "stdout",
     "output_type": "stream",
     "text": [
      "Enter the number of elements in the list: 5\n",
      "Enter the list: 1 2 3 4 5\n",
      "Entered list is  [1, 2, 3, 4, 5]\n",
      "Sum of elements =  15\n",
      "List of even numbers is:  [2, 4]\n",
      "List of even numbers is:  [1, 3, 5]\n"
     ]
    }
   ],
   "source": [
    "length = int(input(\"Enter the number of elements in the list: \"))\n",
    "sum=0\n",
    "even = []\n",
    "odd = []\n",
    "list1=[]\n",
    "list1= list(map(int,input(\"Enter the list: \").split(\" \")))\n",
    "for i in range (length):\n",
    "    #num = int(input(\"Enter the element: \"))\n",
    "    #list1.append(num)\n",
    "    num=list1[i]\n",
    "    sum+=list1[i]\n",
    "    if num%2==0:\n",
    "        even.append(num)\n",
    "    else:\n",
    "        odd.append(num)\n",
    "print(\"Entered list is \",list1)\n",
    "print (\"Sum of elements = \",sum)\n",
    "print(\"List of even numbers is: \",even)\n",
    "print(\"List of even numbers is: \",odd)       "
   ]
  },
  {
   "cell_type": "code",
   "execution_count": 7,
   "id": "e18ed8b7",
   "metadata": {},
   "outputs": [
    {
     "name": "stdout",
     "output_type": "stream",
     "text": [
      "Come!!! Let's chat!!!!\n",
      "What do you want to know today?: morning\n",
      "Please enter a valid query\n",
      "What do you want to know today?: good morning\n",
      "Good morning\n",
      "What do you want to know today?: contact\n",
      "Feel free to contact us in our toll free number 123456789\n",
      "What do you want to know today?: items\n",
      "Visit our website to view the available items\n",
      "What do you want to know today?: offer\n",
      "Click the link to view the latest offers\n",
      "What do you want to know today?: order\n",
      "Please login to view your orders\n",
      "What do you want to know today?: hi\n",
      "Please enter a valid query\n",
      "What do you want to know today?: quit\n"
     ]
    }
   ],
   "source": [
    "print(\"Come!!! Let's chat!!!!\")\n",
    "\n",
    "while(True):\n",
    "    str1 = input(\"What do you want to know today?: \")\n",
    "    str1=str1.lower()\n",
    "    if 'quit' in str1:\n",
    "        break\n",
    "    elif 'good morning' in str1:\n",
    "        print(\"Good morning\")\n",
    "    elif 'items' in str1:\n",
    "        print(\"Visit our website to view the available items\")\n",
    "    elif 'contact' in str1:\n",
    "        print(\"Feel free to contact us in our toll free number 123456789\")\n",
    "    elif 'offer' in str1:\n",
    "        print(\"Click the link to view the latest offers\")\n",
    "    elif 'order' in str1:\n",
    "        print(\"Please login to view your orders\")\n",
    "    else:\n",
    "        print(\"Please enter a valid query\")"
   ]
  },
  {
   "cell_type": "code",
   "execution_count": 24,
   "id": "2583a502",
   "metadata": {},
   "outputs": [
    {
     "name": "stdout",
     "output_type": "stream",
     "text": [
      "Enter the co-efficients :2 3 1\n",
      "Roots ae real and distinct\n",
      "Root1 =  -0.5 Root2 =  -1.0\n"
     ]
    }
   ],
   "source": [
    "import math\n",
    "a,b,c = map(int,input(\"Enter the co-efficients :\").split(\" \"))\n",
    "d=(b**2)-4*a*c\n",
    "if a==0:\n",
    "    print(\"Invalid equation\")\n",
    "else:\n",
    "    if d==0:\n",
    "        print(\"Roots are real and equal\")\n",
    "        root1= (-b+math.sqrt(d))/2*a\n",
    "        print(\"Root = \",root1)\n",
    "    elif d>0:\n",
    "        print(\"Roots ae real and distinct\")\n",
    "        root1= (-b+math.sqrt(d))/(2*a)\n",
    "        root2= (-b-math.sqrt(d))/(2*a)\n",
    "        print(\"Root1 = \",root1,\"Root2 = \",root2)\n",
    "    else:\n",
    "        img=math.sqrt(-d)/(2*a)\n",
    "        real = -b/2*a\n",
    "        print(\"Roots are complex\")\n",
    "        #root1= (-b+math.sqrt(d))/2*a\n",
    "        #root2= (-b-math.sqrt(d))/2*a\n",
    "        print(\"Root1 =  \",real,\"+\",img,\"i\")\n",
    "        print(\"Root2 =  \",real,\"-\",img,\"i\")"
   ]
  },
  {
   "cell_type": "code",
   "execution_count": 27,
   "id": "5828e354",
   "metadata": {},
   "outputs": [
    {
     "name": "stdout",
     "output_type": "stream",
     "text": [
      "Current number =  1 Previous Number =  0 Sum =  1\n",
      "Current number =  2 Previous Number =  1 Sum =  3\n",
      "Current number =  3 Previous Number =  2 Sum =  5\n",
      "Current number =  4 Previous Number =  3 Sum =  7\n",
      "Current number =  5 Previous Number =  4 Sum =  9\n",
      "Current number =  6 Previous Number =  5 Sum =  11\n",
      "Current number =  7 Previous Number =  6 Sum =  13\n",
      "Current number =  8 Previous Number =  7 Sum =  15\n",
      "Current number =  9 Previous Number =  8 Sum =  17\n",
      "Current number =  10 Previous Number =  9 Sum =  19\n"
     ]
    }
   ],
   "source": [
    "for i in range (1,11):\n",
    "    print(\"Current number = \",i,\"Previous Number = \",i-1,\"Sum = \",i+i-1)"
   ]
  },
  {
   "cell_type": "code",
   "execution_count": 41,
   "id": "b63519a4",
   "metadata": {},
   "outputs": [
    {
     "name": "stdout",
     "output_type": "stream",
     "text": [
      "Enter the limit: 10 20\n",
      "11,13,17,19,"
     ]
    }
   ],
   "source": [
    "l1,l2 = map(int,input(\"Enter the limit: \").split(\" \"))\n",
    "#print (l1,l2)\n",
    "for num in range(l1,l2+1):\n",
    "    flag=0\n",
    "    for i in range(2,num):\n",
    "        if num%i==0:\n",
    "            #print(\"Not a prime number\")\n",
    "            flag=1\n",
    "            break\n",
    "    if flag==0:\n",
    "        print(num,end=\",\")"
   ]
  },
  {
   "cell_type": "code",
   "execution_count": 52,
   "id": "28260274",
   "metadata": {},
   "outputs": [
    {
     "name": "stdout",
     "output_type": "stream",
     "text": [
      "Enter the limit: 5\n",
      "0,1,1,2,3\n"
     ]
    }
   ],
   "source": [
    "limit = int(input(\"Enter the limit: \"))\n",
    "first = 0\n",
    "second = 1\n",
    "print(first,end = \",\")\n",
    "print(second,end = \",\")\n",
    "for x in range(3,limit+1):\n",
    "    third = first + second\n",
    "    print(third,end = \",\")\n",
    "    if third>limit:\n",
    "        break\n",
    "    first,second=second,third\n",
    "print(\"\\b\")"
   ]
  },
  {
   "cell_type": "code",
   "execution_count": null,
   "id": "8c3112d2",
   "metadata": {},
   "outputs": [],
   "source": []
  },
  {
   "cell_type": "code",
   "execution_count": null,
   "id": "ad08c633",
   "metadata": {},
   "outputs": [],
   "source": []
  }
 ],
 "metadata": {
  "kernelspec": {
   "display_name": "Python 3 (ipykernel)",
   "language": "python",
   "name": "python3"
  },
  "language_info": {
   "codemirror_mode": {
    "name": "ipython",
    "version": 3
   },
   "file_extension": ".py",
   "mimetype": "text/x-python",
   "name": "python",
   "nbconvert_exporter": "python",
   "pygments_lexer": "ipython3",
   "version": "3.9.13"
  }
 },
 "nbformat": 4,
 "nbformat_minor": 5
}
