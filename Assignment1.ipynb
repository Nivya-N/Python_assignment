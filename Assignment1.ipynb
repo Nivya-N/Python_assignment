{
 "cells": [
  {
   "cell_type": "code",
   "execution_count": 4,
   "id": "a5251490",
   "metadata": {},
   "outputs": [
    {
     "name": "stdout",
     "output_type": "stream",
     "text": [
      "Enter the name:Anisha\n",
      "enter the roll number:21\n",
      "enter the mark:78\n",
      "Name: Anisha\n",
      "Roll No: 21\n",
      "Mark: 78\n"
     ]
    }
   ],
   "source": [
    "name = input(\"Enter the name:\")\n",
    "rno = input(\"enter the roll number:\")\n",
    "mark = input(\"enter the mark:\")\n",
    "print(\"Name:\",name)\n",
    "print(\"Roll No:\",rno)\n",
    "print(\"Mark:\",mark)"
   ]
  },
  {
   "cell_type": "code",
   "execution_count": 3,
   "id": "a8227988",
   "metadata": {},
   "outputs": [
    {
     "name": "stdout",
     "output_type": "stream",
     "text": [
      "Temperature in Fahrenheit=41\n",
      "Temperature in Degree celsius = 5.0\n",
      "Temperature in Celsius=5\n",
      "Temperature in Fahrenheit = 41.0\n"
     ]
    }
   ],
   "source": [
    "f=float(input(\"Temperature in Fahrenheit=\"))\n",
    "c=5*(f-32)/9\n",
    "print(\"Temperature in Degree celsius =\",c)\n",
    "c=float(input(\"Temperature in Celsius=\"))\n",
    "f= (1.8*c)+32\n",
    "print(\"Temperature in Fahrenheit =\",f)"
   ]
  },
  {
   "cell_type": "code",
   "execution_count": 6,
   "id": "75f6e0b9",
   "metadata": {},
   "outputs": [
    {
     "name": "stdout",
     "output_type": "stream",
     "text": [
      "Enter first number:3\n",
      "Enter second number:5\n",
      "product= 15.0\n"
     ]
    }
   ],
   "source": [
    "num1=float(input(\"Enter first number:\"))\n",
    "num2=float(input(\"Enter second number:\"))\n",
    "print(\"Product=\",num1*num2)"
   ]
  },
  {
   "cell_type": "code",
   "execution_count": 20,
   "id": "9a6b86c2",
   "metadata": {},
   "outputs": [
    {
     "name": "stdout",
     "output_type": "stream",
     "text": [
      "Enter a string:Learn Python by Developing a Website\n",
      "Learn**Python**by Developing a**Website**\n"
     ]
    }
   ],
   "source": [
    "str = input(\"Enter a string:\")\n",
    "ch = '**'\n",
    "str1 = str[:5]+ch+str[6:12]+ch+str[13:28]+ch+str[29:36]+ch\n",
    "\n",
    "print (str1)"
   ]
  },
  {
   "cell_type": "code",
   "execution_count": 12,
   "id": "5a6c9e2c",
   "metadata": {},
   "outputs": [
    {
     "name": "stdout",
     "output_type": "stream",
     "text": [
      "Enter radius:10\n",
      "Area= 314.1592653589793\n"
     ]
    }
   ],
   "source": [
    "import math\n",
    "rad=float(input(\"Enter radius:\"))\n",
    "area= math.pi*rad*rad\n",
    "print(\"Area=\",area)"
   ]
  },
  {
   "cell_type": "code",
   "execution_count": 22,
   "id": "fbd5e97a",
   "metadata": {},
   "outputs": [
    {
     "name": "stdout",
     "output_type": "stream",
     "text": [
      "initial list is: [1, 2, 3, 4, 5, 6]\n",
      "Enter the number to be inserted:100\n",
      "Enter the position:3\n",
      "Modified list is: [1, 2, 3, 100, 4, 5, 6]\n"
     ]
    }
   ],
   "source": [
    "list1 = [1,2,3,4,5,6]\n",
    "print(\"initial list is:\",list1)\n",
    "num = int(input(\"Enter the number to be inserted:\"))\n",
    "pos = int(input(\"Enter the position:\"))\n",
    "list1.insert(pos,num)\n",
    "print(\"Modified list is:\", list1)\n"
   ]
  },
  {
   "cell_type": "code",
   "execution_count": 11,
   "id": "4d70211e",
   "metadata": {},
   "outputs": [
    {
     "name": "stdout",
     "output_type": "stream",
     "text": [
      "Initial Dictionary is: {'name': 'John', 'age': 5, 'salary': 8000, 'city': 'New York'}\n",
      "Modified Dictionary is : {'name': 'John', 'age': 5, 'salary': 8000, 'location': 'New York'}\n"
     ]
    }
   ],
   "source": [
    "sample_dict = { \"name\": \"John\", \"age\":5, \"salary\": 8000, \"city\": \"New York\"}\n",
    "print(\"Initial Dictionary is:\", sample_dict)\n",
    "sample_dict['location']=sample_dict['city']\n",
    "del sample_dict['city']\n",
    "print(\"Modified Dictionary is :\",sample_dict)"
   ]
  },
  {
   "cell_type": "code",
   "execution_count": 14,
   "id": "46bb2fc8",
   "metadata": {},
   "outputs": [
    {
     "name": "stdout",
     "output_type": "stream",
     "text": [
      "Initial Dictionary is: {'emp1': {'name': 'John', 'salary': 7500}, 'emp2': {'name': 'Emma', 'salary': 8000}, 'emp3': {'name': 'Brad', 'salary': 500}}\n",
      "Modified Dictionary is: {'emp1': {'name': 'John', 'salary': 7500}, 'emp2': {'name': 'Emma', 'salary': 8000}, 'emp3': {'name': 'Brad', 'salary': 8500}}\n"
     ]
    }
   ],
   "source": [
    "sample_dict = {\n",
    "'emp1': {'name': 'John', 'salary': 7500},\n",
    "'emp2': {'name': 'Emma', 'salary': 8000},\n",
    "'emp3': {'name': 'Brad', 'salary': 500}\n",
    "}\n",
    "print(\"Initial Dictionary is:\", sample_dict)\n",
    "\n",
    "sample_dict['emp3']['salary'] = 8500\n",
    "print(\"Modified Dictionary is:\", sample_dict)"
   ]
  },
  {
   "cell_type": "code",
   "execution_count": 19,
   "id": "c0e2c19a",
   "metadata": {},
   "outputs": [
    {
     "name": "stdout",
     "output_type": "stream",
     "text": [
      "Initial tuple: (10, 20, 43, 54, 56, 68)\n",
      "New tuple: (43, 54)\n"
     ]
    }
   ],
   "source": [
    "tuple1 = (10, 20, 43, 54, 56, 68)\n",
    "print (\"Initial tuple:\",tuple1)\n",
    "tuple2 = (tuple1[2],tuple1[3])\n",
    "print (\"New tuple:\",tuple2)"
   ]
  },
  {
   "cell_type": "code",
   "execution_count": 25,
   "id": "2fb24f79",
   "metadata": {},
   "outputs": [
    {
     "name": "stdout",
     "output_type": "stream",
     "text": [
      "50 is present in the given tuple 3 times\n"
     ]
    }
   ],
   "source": [
    "tuple1 = (50, 10, 60, 70, 50,83,567,50,81)\n",
    "print(\"50 is present in the given tuple\",tuple1.count(50),\"times\")\n"
   ]
  },
  {
   "cell_type": "code",
   "execution_count": null,
   "id": "af34c3b0",
   "metadata": {},
   "outputs": [],
   "source": []
  }
 ],
 "metadata": {
  "kernelspec": {
   "display_name": "Python 3 (ipykernel)",
   "language": "python",
   "name": "python3"
  },
  "language_info": {
   "codemirror_mode": {
    "name": "ipython",
    "version": 3
   },
   "file_extension": ".py",
   "mimetype": "text/x-python",
   "name": "python",
   "nbconvert_exporter": "python",
   "pygments_lexer": "ipython3",
   "version": "3.9.13"
  }
 },
 "nbformat": 4,
 "nbformat_minor": 5
}
